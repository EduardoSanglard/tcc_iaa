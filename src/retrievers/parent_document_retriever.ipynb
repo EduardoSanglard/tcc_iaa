{
 "cells": [
  {
   "cell_type": "code",
   "execution_count": 1,
   "metadata": {},
   "outputs": [],
   "source": [
    "\"\"\"\n",
    "Testing with the Parent Document Retrievel methodology\n",
    "Available at\n",
    "https://python.langchain.com/docs/how_to/parent_document_retriever/\n",
    "\"\"\"\n",
    "\n",
    "from langchain.retrievers import ParentDocumentRetriever\n",
    "from langchain.storage import InMemoryStore\n",
    "from langchain_chroma import Chroma\n",
    "from langchain_community.document_loaders import TextLoader\n",
    "from langchain_community.embeddings import OllamaEmbeddings\n",
    "from langchain_text_splitters import RecursiveCharacterTextSplitter\n",
    "from langchain_community.document_loaders import TextLoader\n",
    "\n",
    "data_path = \"../../data/edital_text/edital_text.txt\"\n"
   ]
  },
  {
   "cell_type": "code",
   "execution_count": 2,
   "metadata": {},
   "outputs": [],
   "source": [
    "# Loading Documents\n",
    "docs = []\n",
    "\n",
    "document_loader = TextLoader(\"../../data/edital_text/edital_text.txt\")\n",
    "\n",
    "docs.extend(document_loader.load())"
   ]
  },
  {
   "cell_type": "code",
   "execution_count": 3,
   "metadata": {},
   "outputs": [],
   "source": [
    "# Loading Documents\n",
    "parent_splitter = RecursiveCharacterTextSplitter(chunk_size=4000, chunk_overlap=50,\n",
    "    length_function=len,)"
   ]
  },
  {
   "cell_type": "code",
   "execution_count": 4,
   "metadata": {},
   "outputs": [],
   "source": [
    "child_splitter = RecursiveCharacterTextSplitter(chunk_size=1000, chunk_overlap=50,\n",
    "    length_function=len,)"
   ]
  },
  {
   "cell_type": "code",
   "execution_count": 5,
   "metadata": {},
   "outputs": [],
   "source": [
    "# The vectorstore to use to index the child chunks\n",
    "vectorstore = Chroma(\n",
    "    collection_name=\"parental_retriever\", embedding_function=OllamaEmbeddings(model=\"mistral-nemo:latest\", temperature=0.3)\n",
    ")\n"
   ]
  },
  {
   "cell_type": "code",
   "execution_count": 6,
   "metadata": {},
   "outputs": [],
   "source": [
    "# The storage layer for the parent documents\n",
    "store = InMemoryStore()\n",
    "retriever = ParentDocumentRetriever(\n",
    "    vectorstore=vectorstore,\n",
    "    docstore=store,\n",
    "    parent_splitter=parent_splitter,\n",
    "    child_splitter=child_splitter,\n",
    ")"
   ]
  },
  {
   "cell_type": "code",
   "execution_count": 7,
   "metadata": {},
   "outputs": [],
   "source": [
    "retriever.add_documents(docs, ids=None)\n"
   ]
  },
  {
   "cell_type": "code",
   "execution_count": 8,
   "metadata": {},
   "outputs": [
    {
     "name": "stdout",
     "output_type": "stream",
     "text": [
      "['41518f34-6862-49ae-b232-a3a09c9137c2', '639e2431-f688-4b0f-ac8e-1d1554a00ea0', '84253edd-b984-420c-9c62-e99b741280d6', 'fe7260b1-1b51-4e8d-a6a1-39e5c18b200b', '545bb4c1-9f6f-4b03-8ace-ae557342bf1c', '5bc648d6-55e2-4d93-b794-ee83d47e2cbb', 'dcb7818e-cc9d-4825-90a8-a5c48489dd30', '8fefdb57-649f-422e-b2a5-0bd2bfdb9507', '7550be2b-ff62-41e6-9168-df1314382c06', 'a187f03d-d7b0-4614-bd96-b7bf496c438e', '021bfc9e-2d88-44a3-a2c0-128576502b8d', '74c66480-b7d9-4144-accc-44669dcd4e3f', '0fec0fa4-ead2-47a5-a070-5af1f4f620a5', 'da1a9661-a60d-4be9-bd75-400b57329aa7', '011283d6-1958-4f2d-9005-a197608e6a68', 'd897d0e4-0e16-4058-a6a3-81c58b18eae5', 'b2ff6007-f3e4-4685-886c-abe1beb1b2cd', 'f97caac2-7868-434d-8c4c-9d46aa146ed7', '9c000b3b-2805-470e-942d-1992365ed7ff', 'e32c05c0-643f-4dcd-8b20-93277f5da10a', '56e1245d-57fd-4120-814a-819ca681ba21', '8ccd18f1-e300-43f7-ba2c-f5ca28e8ff7a', '74febcac-3dd3-4586-a802-c240838a095e', 'ca231865-fb30-4281-b20a-0bf0ff3e19fa', 'a7e685a3-36cb-4963-98c9-221da9e7c567', '82d62096-2aa6-489d-80f9-b3f23a25529d', '8e1c6ee8-0c5c-48db-b69a-18269ce0f91b', 'a6db7650-e31e-4f4f-b7d6-1e1bec09b253', 'd977413e-e9a5-4cf8-bb6b-44af1bd61bd7', '3e2bd9df-0bbb-47ee-93ea-eba22cf88400', '8e2d9848-6ead-4b6e-8c49-af12c8d6df9f', 'b64ff32f-019b-4fc8-bcba-e096e487f0f2', '3d063541-1487-4142-b232-2de2d6d57ee8', '12d9d884-e1df-4e3d-8ee4-93687336976a', 'f879df19-0a4f-4e61-8980-c080edad5bcb', '3672ef08-8b4e-4a2c-954e-d021f9d3155a', '2d38338f-f1f1-41ed-aca6-8077ae6f65b4', 'd0deff4b-d13f-47ea-bc7b-64bcbd8e15df', 'ad73bd51-bbb0-434c-a347-d672acb6dd60', 'fc09769c-9b7f-4d2f-802c-15b6c347fb4c', 'bebd00c5-c99e-4843-b1e6-e8d336ec1367', 'aee2db46-ce90-48e7-ad7d-c671fa44a0a8']\n"
     ]
    }
   ],
   "source": [
    "print(list(store.yield_keys()))"
   ]
  },
  {
   "cell_type": "code",
   "execution_count": 10,
   "metadata": {},
   "outputs": [
    {
     "name": "stdout",
     "output_type": "stream",
     "text": [
      "[Document(metadata={'doc_id': '8fefdb57-649f-422e-b2a5-0bd2bfdb9507', 'source': '../../data/edital_text/edital_text.txt'}, page_content='3.10.16 Poderá ser concedida isenção ao candidato inscrito para o cargo dos CFOs de Cadete PM ou\\nCadete BM que:14\\n\\na) Comprove não poder arcar com tal ônus junto ao NC/UFPR, mediante inscrição do Cadastro\\nÚnico para Programas Sociais do Governo Federal – CadÚnico (Decreto nº 6.593/2008), em\\nconformidade com a Lei estadual nº 19.695/2018; ou,\\nb) Comprove a prestação de serviço para a Justiça Eleitoral por, no mínimo, dois eventos eleitorais,\\nconsecutivos ou não, em conformidade com o disposto na Lei estadual nº 19.196/2017; ou,\\nc) Comprove ter realizado doação de sangue por, no mínimo, duas vezes nos últimos doze meses\\nanteriores à publicação deste edital ou comprove a condição de doador de medula óssea,\\nconforme disposto na Lei estadual nº 19.293/2017 (data de referência conforme estabelecido\\nno Cronograma disponível no Anexo I deste Edital).'), Document(metadata={'doc_id': 'f879df19-0a4f-4e61-8980-c080edad5bcb', 'source': '../../data/edital_text/edital_text.txt'}, page_content='3.10.23 Divulgação da Relação Nominal com resultado do pedido deisenção do pagamento da taxa de inscrição pelas LeisEstaduais n° 19.196/2017 e 19.293/2017, para os candidatos inscritos para o cargo de Cadete PM ou Cadete BM 01/08/2023\\n3.10.24 Prazo para interposição de recursos contra a Relação Nominalcom resultado do pedido de isenção do pagamento da taxa deinscrição pelo CadÚnico, para os candidatos inscritos para o cargo de Cadete PM ou Cadete BM19/07/2023(00h01min)20/07/2023(23h59min)\\n3.10.24 Prazo para interposição de recursos contra Relação Nominal com resultado do pedido de isenção do pagamento da taxa de inscrição pelas Leis Estaduais n° 19.196/2017 e 19.293/2017, para os candidatos inscritos para o cargo de Cadete PM ou Cadete BM 02/08/2023 (00h01min) 03/08/2023 (23h59min)'), Document(metadata={'doc_id': 'd0deff4b-d13f-47ea-bc7b-64bcbd8e15df', 'source': '../../data/edital_text/edital_text.txt'}, page_content='2.3. TRABALHADORES EM ATIVIDADE RURAL\\n\\na) Os declarantes de Imposto de Renda Pessoa Jurídica devem apresentar a Declaração de\\nInformações econômico-fiscais da Pessoa Jurídica – DIPJ (referente ao exercício 2023, ano-\\ncalendário 2022, todas as páginas) e do recibo de entrega à Receita Federal do Brasil;\\n\\nb) Demais declarações tributárias das pessoas jurídicas vinculadas ao integrante do grupo familiar,\\nrelativas ao exercício 2023, ano-calendário 2022;\\n\\nc) Notas fiscais e contranotas de venda de produtos referentes aos rendimentos oriundos da atividade\\nrural, relativas ao exercício 2023, ano-calendário 2022, inclusive as canceladas, do integrante do\\ngrupo familiar que obteve renda desta origem;\\n\\nd) Apresentar também:\\n\\nProdutor Rural Sindicalizado: Declaração do Sindicato Rural;\\nProdutor Rural Não Sindicalizado: Declaração Comprobatória de Percepção de Rendimentos –\\nDECORE (emitida por profissional contábil).'), Document(metadata={'doc_id': '8ccd18f1-e300-43f7-ba2c-f5ca28e8ff7a', 'source': '../../data/edital_text/edital_text.txt'}, page_content='7.1.2 Serão admitidos os seguintes documentos apresentados por meio eletrônico para fins de\\nidentificação: a Carteira Nacional de Habilitação Digital com foto, o Título de Eleitor Digital (e-Título)\\ne o RG Digital (dos Estados que já implementaram a funcionalidade), desde que apresentados a\\npartir dos aplicativos oficiais, ou seja, documentos digitalizados (foto, PDF ou outro formato que não\\no aplicativo oficial) não serão aceitos.')]\n"
     ]
    }
   ],
   "source": [
    "sub_docs = vectorstore.similarity_search(\"Posso apresentar o histórico de graduação ou a Certidão de Conclusão de Graduação, no lugar dos documentos do ensino médio?\")\n",
    "print(sub_docs)"
   ]
  },
  {
   "cell_type": "code",
   "execution_count": 31,
   "metadata": {},
   "outputs": [],
   "source": [
    "retrieved_docs = retriever.invoke(\"exame musical\")"
   ]
  },
  {
   "cell_type": "code",
   "execution_count": 32,
   "metadata": {},
   "outputs": [
    {
     "data": {
      "text/plain": [
       "4"
      ]
     },
     "execution_count": 32,
     "metadata": {},
     "output_type": "execute_result"
    }
   ],
   "source": [
    "len(retrieved_docs)"
   ]
  },
  {
   "cell_type": "code",
   "execution_count": 33,
   "metadata": {},
   "outputs": [
    {
     "name": "stdout",
     "output_type": "stream",
     "text": [
      "3.3 Ao se inscrever, o candidato deverá optar por uma das categorias de concorrência – concorrência\n",
      "geral ou concorrência especial –, nos termos da reserva de vagas amparada na Lei nº 12.711/12.\n",
      "\n",
      "3.3.1 Os candidatos da concorrência geral que optarem por concorrer à vaga suplementar destinada a\n",
      "pessoas com deficiência (PCD) deverão satisfazer as condições estabelecidas no item 3.11 deste\n",
      "edital. Neste caso, os candidatos deverão selecionar a opção correspondente ao tipo de vaga no\n",
      "momento do preenchimento do formulário de inscrição.9\n",
      "\n",
      "3.3.2 Os candidatos que optarem pela categoria de concorrência especial deverão, necessariamente,\n",
      "optar por uma das seguintes categorias de concorrência:\n",
      "\n",
      "a) Renda familiar igual ou inferior a 1,5 salário mínimo (RI);\n",
      "b) Pessoa com deficiência, com renda familiar igual ou inferior a 1,5 salário mínimo (RI+PCD);\n",
      "c) Autodeclarados pretos, pardos ou indígenas, com renda familiar igual ou inferior a 1,5 salário\n",
      "mínimo (RI+PPI);\n",
      "d) Pessoa com deficiência, autodeclarada preta, parda ou indígena, com renda familiar igual ou\n",
      "inferior a 1,5 salário mínimo (RI+PPI+PCD);\n",
      "e) Renda familiar superior a 1,5 salário mínimo (RS);\n",
      "f) Pessoa com deficiência, com renda familiar superior a 1,5 salário mínimo (RS+PCD);\n",
      "g) Autodeclarados pretos, pardos ou indígenas, com renda familiar superior a 1,5 salário mínimo\n",
      "(RS+PPI);\n",
      "h) Pessoa com deficiência, autodeclarada preta, parda ou indígena, com renda familiar superior a\n",
      "1,5 salário mínimo (RS+PPI+PCD).\n",
      "\n",
      "3.3.3 Candidatos que optarem pelas categorias de concorrência especial PPI e/ou PCD deverão, no ato\n",
      "da inscrição, indicar uma segunda opção de categoria de concorrência, para a eventualidade de a\n",
      "sua autodeclaração não ser validada pela respectiva banca de validação.\n",
      "\n",
      "3.3.3.1 Nos casos em que a segunda opção de categoria de concorrência coincida com a necessidade de\n",
      "submissão a banca de validação (PPI ou PCD) na qual o candidato tenha sido invalidado na primeira\n",
      "opção de categoria de concorrência, estes serão migrados automaticamente para a concorrência\n",
      "geral.\n",
      "\n",
      "3.4 Além da concorrência geral e da concorrência especial, haverá uma terceira modalidade de\n",
      "inscrição – candidato treineiro –, destinada aos interessados em realizar o PS-UFPR apenas para\n",
      "fins de treinamento, sem concorrer efetivamente às vagas.\n",
      "\n",
      "3.4.1 Os dados dos candidatos inscritos nesta modalidade serão processados separadamente, assim\n",
      "como seus nomes não poderão figurar na classificação final dos candidatos aprovados no PS-\n",
      "UFPR, mesmo que alcancem pontuação para tanto.\n",
      "\n",
      "3.5 O candidato que, após efetivação da sua inscrição (preenchimento do formulário e pagamento da\n",
      "taxa de inscrição ou deferimento do pedido de isenção), desejar alterar alguma das suas opções,\n",
      "tais como a de curso, língua estrangeira ou categoria de concorrência, poderá fazê-lo no período\n",
      "estabelecido no Cronograma disponível no Anexo I deste Edital, mediante o preenchimento de\n",
      "formulário próprio (disponível no site do NC/UFPR) e o pagamento do boleto bancário no valor de\n",
      "R$ 44,00 (quarenta e quatro reais).\n",
      "\n",
      "3.5.1 O pagamento da taxa para alteração da inscrição (opção de curso, língua estrangeira e/ou categoria\n",
      "de concorrência) poderá ser efetuado até o dia estabelecido no Cronograma disponível no Anexo I\n",
      "deste Edital, observado o horário de atendimento bancário.\n",
      "\n",
      "3.5.2 A homologação do pagamento da taxa de alteração (R$ 44,00) e a confirmação da alteração\n",
      "solicitada poderão ser consultadas no extrato de dados do candidato a partir do 2º (segundo) dia útil\n",
      "após o pagamento da taxa.\n",
      "\n",
      "3.5.3 A solicitação de alteração somente poderá ser realizada após o pagamento da taxa de inscrição a\n",
      "que se refere o item 3.2.3 deste edital, ou após a homologação da isenção dessa taxa.\n"
     ]
    }
   ],
   "source": [
    "print(retrieved_docs[0].page_content)"
   ]
  },
  {
   "cell_type": "code",
   "execution_count": 34,
   "metadata": {},
   "outputs": [
    {
     "name": "stdout",
     "output_type": "stream",
     "text": [
      "11.3 É de inteira responsabilidade do candidato em Lista de Espera, conforme estabelecido no subitem\n",
      "9.14 deste Edital, verificar todas as publicações no site do NC/UFPR a respeito da ocupação das\n",
      "vagas remanescentes, nos prazos e condições estabelecidas em cada publicação.\n",
      "\n",
      "11.4 Na data estabelecida no Cronograma do Anexo I deste Edital, serão convocados todos os\n",
      "candidatos que compõem a lista de espera para realizar o envio da documentação necessária para\n",
      "Registro Acadêmico no período definido no cronograma do Anexo I.\n",
      "\n",
      "11.5 O envio da documentação necessária para Registro Acadêmico não assegura direito à vaga.\n",
      "\n",
      "11.6 No período estabelecido no Cronograma do Anexo I deste Edital, os candidatos deverão fazer o\n",
      "upload dos seguintes documentos no site do NC/UFPR:\n",
      "\n",
      "a) Documento de identificação ou, para candidatos estrangeiros, o RNE-PERMANENTE (Registro\n",
      "Nacional de Estrangeiro-PERMANENTE) ou o RNM (Registro Nacional de Migrante);\n",
      "\n",
      "b) Certidão de nascimento ou casamento (e que conste a indicação da data e do horário de\n",
      "nascimento);\n",
      "c) Histórico escolar de Ensino Médio;\n",
      "d) Certificado de conclusão de Ensino;\n",
      "e) Comprovante impresso de situação cadastral no CPF – disponível no site da Receita Federal\n",
      "(https://www.receita.fazenda.gov.br/Aplicacoes/SSL/ATCTA/CPF/ConsultaSituacao/ConsultaP\n",
      "ublica.asp).\n",
      "f) Documentos exigidos para fins de comprovação de renda, conforme estabelecido no Anexo II\n",
      "deste Edital, para os candidatos às vagas reservadas a estudantes com renda familiar bruta per\n",
      "capita igual ou inferior a 1,5 (um vírgula cinco) salário mínimo\n",
      "\n",
      "11.7 Os documentos devem ser digitalizados de forma legível, sem recortes e quando for o caso, frente\n",
      "e verso, permitindo a identificação do candidato e a análise das informações neles constantes de\n",
      "forma precisa, sob risco de desclassificação do candidato.\n",
      "\n",
      "11.8 Como documentos de identificação, poderão ser aceitos, desde que dentro do prazo de validade no\n",
      "momento do registro acadêmico, os seguintes documentos: Carteira de Identidade Civil; Carteira de\n",
      "Identidade Militar (que deverá também estar válida dentro do prazo de conclusão do curso); Carteira\n",
      "Nacional de Habilitação, carteiras funcionais, carteiras expedidas por Ordens ou Conselhos de\n",
      "Classe, Certificado de Dispensa de Incorporação, Passaporte, Carteira de Trabalho e Previdência\n",
      "Social.\n",
      "\n",
      "11.8.1 Não serão aceitos, para fins de identificação, carteiras emitidas por bibliotecas ou estabelecimentos\n",
      "de ensino, crachás ou quaisquer outros documentos diversos dos elencados no item anterior.\n",
      "\n",
      "11.9 A Carteira de Identidade Civil não poderá apresentar a condição “Não Alfabetizado”.\n",
      "\n",
      "11.10 Escrituras Públicas de Convivência ou similares não substituem Certidão de Nascimento ou\n",
      "Casamento.\n",
      "\n",
      "11.11 Os históricos escolares de Ensino Médio deverão estar em sua forma completa, incluindo os anexos\n",
      "quando for o caso.\n",
      "\n",
      "11.11.1 O diploma de graduação em curso reconhecido pelo MEC, devidamente registrado, poderá substituir\n",
      "o histórico escolar e o certificado de conclusão de Ensino Médio. Serão aceitos diplomas de\n",
      "graduação expedidos por instituições estrangeiras, desde que acompanhados de tradução\n",
      "juramentada, revalidados e registrados por instituições de Ensino Superior nacionais, na forma da\n",
      "lei, em conformidade com a Resolução MEC/CNE/CES nº 3, de 22 de junho de 2016.\n",
      "\n",
      "11.11.2 Para os candidatos aprovados para as vagas reservadas em conformidade com a Lei nº 12.711/12,\n",
      "previstas no item 2.3 deste edital, o histórico escolar será utilizado para comprovação de que\n",
      "efetivamente cada uma das séries do Ensino Médio foi cursada, com aprovação, em escolas\n",
      "públicas.\n",
      "\n",
      "11.11.3 Estão impedidos de ocupar as vagas reservadas em conformidade com a Lei nº 12.711/12, previstas\n",
      "no item 2.3 deste edital, quaisquer candidatos que tenham cursado total ou parcialmente o Ensino\n",
      "Médio em escolas particulares, em vista do disposto no item 2.3.2 deste edital.\n"
     ]
    }
   ],
   "source": [
    "print(retrieved_docs[1].page_content)"
   ]
  },
  {
   "cell_type": "code",
   "execution_count": 35,
   "metadata": {},
   "outputs": [
    {
     "name": "stdout",
     "output_type": "stream",
     "text": [
      "b) Imposto de Renda de Pessoa Física (IRPF):\n",
      "Para os declarantes de IRPF: declaração de Ajuste Anual do DIRPF (todas as páginas) e do recibo\n",
      "de entrega à Receita Federal do Brasil, referente ao exercício 2023, ano- calendário de 2022. Quando\n",
      "houver, notificação da restituição do IRPF;\n",
      "Para os não declarantes de IRPF: comprovante da Situação das Declarações IRPF 2023, disponível\n",
      "no link\n",
      "https://servicos.receita.fazenda.gov.br/Servicos/ConsRest/Atual.app/paginas/index.asp\n",
      "\n",
      "c) Extratos bancários de todas as contas corrente e poupança, relativos aos meses de março, abril e\n",
      "maio de 2023, de todos os membros do grupo familiar que possuírem conta em agências bancárias\n",
      "(pessoa física e das pessoas jurídicas vinculadas). Caso não possuam conta bancária, deve-se\n",
      "apresentar declaração de negativa de conta bancária, conforme modelo disponibilizado no Anexo VII;\n",
      "\n",
      "d) Pensão alimentícia – Para componentes do grupo familiar menores de 21 anos com pais falecidos ou\n",
      "separados (separação legalizada ou não): declaração de não recebimento de pensão alimentícia,\n",
      "conforme modelo disponível no Anexo III, ou da decisão judicial ou declaração informando a situação\n",
      "e um demonstrativo do valor recebido;\n",
      "\n",
      "e) Em caso de auxílio financeiro/pensão fornecida por acordo verbal, o estudante deverá fornecer\n",
      "declaração assinada pela parte cedente e por duas testemunhas não pertencentes ao grupo familiar,\n",
      "em que conste o valor do auxílio financeiro/pensão em cada um dos meses de março, abril e maio\n",
      "de 2023, bem como o detalhamento da forma do auxílio (em mãos, depósito em conta corrente,\n",
      "depósito em conta poupança etc.), conforme modelo disponível no Anexo IV;\n",
      "\n",
      "f) Cadastro Nacional de Informações Sociais (CNIS) fornecido pelo INSS\n",
      "(https://cnisnet.inss.gov.br/cnisinternet/);\n",
      "\n",
      "g) A apresentação do comprovante de inscrição no CadÚnico obtido no endereço eletrônico (cadastro\n",
      "único (dataprev.gov.br) isenta o candidato de apresentar a documentação de comprovação de renda,\n",
      "descrita neste Anexo II.\n",
      "\n",
      "h) Declaração de renda familiar, conforme modelo do Anexo VIII, deste edital.\n",
      "\n",
      "2.2. TRABALHADORES ASSALARIADOS\n",
      "\n",
      "a) Contracheques relativamente aos três meses anteriores ao início do período de inscrição do Processo\n",
      "Seletivo UFPR 2024.\n",
      "\n",
      "Trabalhadores em geral: contracheques referentes a todas as atividades remuneradas, relativamente\n",
      "aos meses de março, abril e maio de 2023;\n",
      "\n",
      "62 Inserido pelo Edital de Retificação nº 04/2024-NC/PROGRAD de 18 de janeiro de 2024.\n",
      "\n",
      "Empregada(o) doméstica(o): comprovante de contribuição para a Previdência Social com\n",
      "recolhimento dos meses de março, abril e maio de 2023;\n",
      "Servidores públicos: últimos três contracheques, relativos aos meses de março, abril e maio de\n",
      "2023.\n",
      "\n",
      "b) Carnê do INSS com recolhimento em dia, quando for o caso.\n",
      "\n",
      "2.3. TRABALHADORES EM ATIVIDADE RURAL\n",
      "\n",
      "a) Os declarantes de Imposto de Renda Pessoa Jurídica devem apresentar a Declaração de\n",
      "Informações econômico-fiscais da Pessoa Jurídica – DIPJ (referente ao exercício 2023, ano-\n",
      "calendário 2022, todas as páginas) e do recibo de entrega à Receita Federal do Brasil;\n",
      "\n",
      "b) Demais declarações tributárias das pessoas jurídicas vinculadas ao integrante do grupo familiar,\n",
      "relativas ao exercício 2023, ano-calendário 2022;\n",
      "\n",
      "c) Notas fiscais e contranotas de venda de produtos referentes aos rendimentos oriundos da atividade\n",
      "rural, relativas ao exercício 2023, ano-calendário 2022, inclusive as canceladas, do integrante do\n",
      "grupo familiar que obteve renda desta origem;\n",
      "\n",
      "d) Apresentar também:\n",
      "\n",
      "Produtor Rural Sindicalizado: Declaração do Sindicato Rural;\n",
      "Produtor Rural Não Sindicalizado: Declaração Comprobatória de Percepção de Rendimentos –\n",
      "DECORE (emitida por profissional contábil).\n",
      "\n",
      "e) Caso não se possua bloco de produtor rural: entregar a certidão negativa de bloco de produtor rural,\n",
      "emitida pela Prefeitura Municipal e/ou Secretaria da Fazenda.\n",
      "\n",
      "2.4. APOSENTADOS, PENSIONISTAS E BENEFICIÁRIOS DE QUALQUER OUTRO BENEFÍCIO DO\n",
      "INSS\n"
     ]
    }
   ],
   "source": [
    "print(retrieved_docs[2].page_content)"
   ]
  },
  {
   "cell_type": "code",
   "execution_count": 36,
   "metadata": {},
   "outputs": [
    {
     "name": "stdout",
     "output_type": "stream",
     "text": [
      "8.1.8 A Banca Examinadora constitui última instância para recurso, sendo soberana em suas decisões,\n",
      "razão pela qual não caberão recursos adicionais.\n",
      "\n",
      "8.1.9 À exceção dos recursos previstos, não se concederá revisão de provas, recontagem de pontos das\n",
      "provas, segunda chamada ou vistas das provas, devido às características do PS-UFPR.\n",
      "\n",
      "8.2 Do Processamento da Leitura Óptica do Cartão-Resposta\n",
      "\n",
      "8.2.1 No prazo estabelecido conforme cronograma do Anexo I, será publicado o resultado do\n",
      "processamento da leitura óptica do cartão-resposta, no site do NC/UFPR o qual ficará disponível\n",
      "para acesso do candidato exclusivamente neste período.\n",
      "\n",
      "8.2.2 Serão aceitos questionamentos sobre o processamento da leitura óptica do cartão-resposta durante\n",
      "o período estabelecido conforme cronograma do Anexo I, no site do NC/UFPR.\n",
      "\n",
      "8.2.3 Os questionamentos devem estar fundamentados e apresentados em formulário específico\n",
      "disponibilizado no site do NC/UFPR, devendo o candidato seguir as instruções contidas no referido\n",
      "formulário.\n",
      "\n",
      "8.2.4 As respostas dos recursos quanto ao processamento da leitura óptica do cartão-resposta serão\n",
      "disponibilizadas ao candidato no dia estabelecido conforme cronograma do Anexo I.\n",
      "\n",
      "8.2.5 Se constatada alguma inconsistência por falha do processo de leitura do cartão-resposta, serão\n",
      "procedidos os ajustes necessários por parte do NC/UFPR.\n",
      "\n",
      "8.3 Dos Recursos da Segunda Fase\n",
      "\n",
      "8.3.1 No dia estabelecido conforme cronograma do Anexo I, o NC/UFPR disponibilizará o gabarito\n",
      "provisório da Prova Teórica Objetiva de Música (subitens 6.4.2 e 6.4.3 deste Edital), no site do\n",
      "NC/UFPR.\n",
      "\n",
      "8.3.2 Serão aceitos questionamentos acerca das notas atribuídas a cada uma das questões e pontuação\n",
      "nas provas da segunda fase, desde que estejam em conformidade com o disposto nos subitens a\n",
      "seguir:\n",
      "\n",
      "8.3.2.1 Os questionamentos devem estar fundamentados exclusivamente com base no Programa Oficial\n",
      "das Provas (Conteúdo Programático) estabelecido para PS-UFPR-2024 e apresentados em\n",
      "formulário específico, no período estabelecido conforme cronograma do Anexo I, por intermédio\n",
      "do site do NC/UFPR.\n",
      "\n",
      "8.3.2.2 Os recursos em desacordo com o subitem anterior serão prontamente indeferidos por falta de objeto\n",
      "ou intempestividade\n",
      "\n",
      "8.3.3 No período estabelecido conforme cronograma do Anexo I, o NC/UFPR disponibilizará vistas da\n",
      "prova de Compreensão e Produção de Texto e das Provas Específicas com as respectivas\n",
      "correções aos candidatos inscritos no PS-UFPR (e ao processo seletivo para Cadete PM e Cadete\n",
      "BM da PMPR), por intermédio do site do NC/UFPR.\n",
      "\n",
      "8.3.4 Serão aceitos questionamentos acerca das notas atribuídas a cada uma das questões e pontuação\n",
      "nas provas da segunda fase, desde que estejam em conformidade com o disposto nos subitens a\n",
      "seguir:\n",
      "\n",
      "8.3.4.1 Os questionamentos devem estar fundamentados exclusivamente com base no Programa Oficial\n",
      "das Provas (Conteúdo Programático e Bibliografia) estabelecido para PS-UFPR-2024, bem como\n",
      "nos critérios específicos estabelecidos para a avaliação (subitens 6.3.18, 6.4.4.6 e 6.4.4.8) e\n",
      "divulgados no espelho de correção, e apresentados em formulário específico, no período\n",
      "estabelecido conforme cronograma do Anexo I, por intermédio do site do NC/UFPR.\n",
      "\n",
      "8.3.4.2 Os questionamentos devem apontar claramente quais critérios estabelecidos para a correção e\n",
      "atribuição da nota que não teriam sido devidamente observados pela Banca Examinadora,\n",
      "fundamentando a arguição conforme estabelece o subitem anterior. A fundamentação deverá\n",
      "obrigatoriamente ser embasada em alguma referência bibliográfica dentre as indicadas no Programa\n",
      "Oficial das Provas.\n",
      "\n",
      "8.3.5 Os recursos em desacordo com os itens anteriores serão prontamente indeferidos por carência de\n",
      "fundamentação.\n",
      "\n",
      "8.3.6 O espaço reservado ao texto do recurso não poderá conter qualquer palavra ou marca que\n",
      "identifique o candidato, sob pena de ser preliminarmente indeferido.\n"
     ]
    }
   ],
   "source": [
    "print(retrieved_docs[3].page_content)"
   ]
  }
 ],
 "metadata": {
  "kernelspec": {
   "display_name": "Python 3",
   "language": "python",
   "name": "python3"
  },
  "language_info": {
   "codemirror_mode": {
    "name": "ipython",
    "version": 3
   },
   "file_extension": ".py",
   "mimetype": "text/x-python",
   "name": "python",
   "nbconvert_exporter": "python",
   "pygments_lexer": "ipython3",
   "version": "3.10.12"
  }
 },
 "nbformat": 4,
 "nbformat_minor": 2
}
