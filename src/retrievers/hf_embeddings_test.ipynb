{
 "cells": [
  {
   "cell_type": "code",
   "execution_count": 6,
   "metadata": {},
   "outputs": [],
   "source": [
    "from langchain_community.embeddings import OllamaEmbeddings"
   ]
  },
  {
   "cell_type": "code",
   "execution_count": 3,
   "metadata": {},
   "outputs": [],
   "source": [
    "from langchain_text_splitters import RecursiveCharacterTextSplitter\n",
    "from langchain_community.document_loaders import TextLoader\n",
    "from langchain_chroma import Chroma"
   ]
  },
  {
   "cell_type": "code",
   "execution_count": 4,
   "metadata": {},
   "outputs": [],
   "source": [
    "data_path = \"../../data/edital_text/edital_text.txt\"\n",
    "chunk_size = 1000\n",
    "\n",
    "loaders = [\n",
    "    TextLoader(data_path)\n",
    "]\n",
    "docs = []\n",
    "for l in loaders:\n",
    "    docs.extend(l.load())\n",
    "text_splitter = RecursiveCharacterTextSplitter(chunk_size=chunk_size, chunk_overlap=50, length_function=len)\n",
    "documents = text_splitter.split_documents(docs)"
   ]
  },
  {
   "cell_type": "code",
   "execution_count": 7,
   "metadata": {},
   "outputs": [],
   "source": [
    "embedding_func = OllamaEmbeddings(model=\"bge-m3\")"
   ]
  },
  {
   "cell_type": "code",
   "execution_count": 8,
   "metadata": {},
   "outputs": [],
   "source": [
    "vector_store_path = \"../../data/vector_store_chroma/bge-m3\"\n",
    "collection_name = \"bge-m3-1000\""
   ]
  },
  {
   "cell_type": "code",
   "execution_count": 9,
   "metadata": {},
   "outputs": [],
   "source": [
    "vectordb = Chroma.from_documents(documents, \n",
    "                                    embedding=embedding_func, \n",
    "                                    collection_name=collection_name,\n",
    "                                    persist_directory=vector_store_path)"
   ]
  },
  {
   "cell_type": "code",
   "execution_count": 31,
   "metadata": {},
   "outputs": [
    {
     "name": "stdout",
     "output_type": "stream",
     "text": [
      "3\n"
     ]
    }
   ],
   "source": [
    "search_test = vectordb.similarity_search(\"Não tenho CPF inscrição utilizando o CPF de outra pessoa\",  k =3)\n",
    "print(len(search_test))"
   ]
  },
  {
   "cell_type": "code",
   "execution_count": 32,
   "metadata": {},
   "outputs": [
    {
     "name": "stdout",
     "output_type": "stream",
     "text": [
      "a) pagamentos efetuados fora do prazo;\n",
      "\n",
      "b) pagamentos efetuados por ordens de pagamento eletrônico, depósito em conta corrente, DOC\n",
      "ou por qualquer outro meio que não o código de barra ou a sua representação numérica\n",
      "impressa no boleto bancário;\n",
      "c) pagamentos efetuados por agendamento de pagamento não efetivado por falta de saldo\n",
      "suficiente ou por falhas diversas no sistema bancário;\n",
      "d) pagamentos efetuados em valores inferiores ao especificado no boleto bancário;\n",
      "e) falta de informação de pagamento pelo sistema bancário.\n",
      "\n",
      "3.2.3 A taxa de inscrição será de R$ 195,00 (cento e noventa e cinco reais).\n",
      "\n",
      "3.2.4 O simples agendamento do pagamento no banco não é suficiente para a consolidação da inscrição.\n",
      "\n",
      "3.2.5 A inscrição está vinculada ao CPF do candidato, não sendo possível realizar mais de uma inscrição\n",
      "por candidato.\n"
     ]
    }
   ],
   "source": [
    "print(search_test[0].page_content)"
   ]
  },
  {
   "cell_type": "code",
   "execution_count": 33,
   "metadata": {},
   "outputs": [
    {
     "name": "stdout",
     "output_type": "stream",
     "text": [
      "a) Confirmação do pagamento da taxa de inscrição ou da isenção da taxa; e,\n",
      "b) Confirmação de dados conforme descrito no subitem 3.8.1 deste Edital.\n",
      "\n",
      "3.8.1 Os dados informados pelo candidato no formulário de inscrição, como nome completo, CPF e data\n",
      "de nascimento, deverão corresponder aos dados que constam na base de dados oficial da Receita\n",
      "Federal, sendo que a relação das inscrições homologadas será divulgada com o nome vinculado ao\n",
      "CPF informado no ato da inscrição. Para consultar as informações que constam na base de dados\n",
      "da Receita Federal, o candidato poderá acessar o link\n",
      "servicos.receita.fazenda.gov.br/Servicos/CPF/ConsultaSituacao/ConsultaPublica.asp.\n",
      "\n",
      "3.8.2 Encerrado o prazo para pagamento da taxa de inscrição, o NC/UFPR disponibilizará na data\n",
      "estabelecida conforme Cronograma disponível no Anexo I deste Edital, uma relação preliminar\n",
      "contendo os nomes dos candidatos que tiveram sua inscrição homologada.\n"
     ]
    }
   ],
   "source": [
    "print(search_test[1].page_content)"
   ]
  },
  {
   "cell_type": "code",
   "execution_count": 34,
   "metadata": {},
   "outputs": [
    {
     "name": "stdout",
     "output_type": "stream",
     "text": [
      "a) Original da Carteira de Trabalho (CTPS) dos integrantes do grupo familiar atualizada das seguintes\n",
      "páginas, conforme o caso:\n",
      "CTPS com registro: páginas da identificação, contrato de trabalho assinado, próxima página da\n",
      "carteira de trabalho em branco, páginas das observações;\n",
      "CTPS sem registro: páginas da identificação, da página do último contrato de trabalho e a\n",
      "subsequente em branco, páginas das observações;\n",
      "Não possui CTPS: comprovação mediante o Cadastro Nacional de Informações Sociais – CNIS\n",
      "(https://cnisnet.inss.gov.br/cnisinternet/)\n"
     ]
    }
   ],
   "source": [
    "print(search_test[2].page_content)"
   ]
  },
  {
   "cell_type": "code",
   "execution_count": 36,
   "metadata": {},
   "outputs": [],
   "source": [
    "retriever = vectordb.as_retriever()"
   ]
  },
  {
   "cell_type": "code",
   "execution_count": 39,
   "metadata": {},
   "outputs": [],
   "source": [
    "results = retriever.invoke(\"Tomo remédio de uso contínuo. Posso levá-lo para tomar durante a prova?\")"
   ]
  },
  {
   "cell_type": "code",
   "execution_count": 44,
   "metadata": {},
   "outputs": [
    {
     "data": {
      "text/plain": [
       "4"
      ]
     },
     "execution_count": 44,
     "metadata": {},
     "output_type": "execute_result"
    }
   ],
   "source": [
    "len(results)"
   ]
  },
  {
   "cell_type": "code",
   "execution_count": null,
   "metadata": {},
   "outputs": [],
   "source": []
  },
  {
   "cell_type": "code",
   "execution_count": 51,
   "metadata": {},
   "outputs": [
    {
     "name": "stdout",
     "output_type": "stream",
     "text": [
      "4.4.7 Prótese auditiva/aparelhos de surdez (fixo ou não): o candidato que utiliza prótese\n",
      "auditiva/aparelhos de surdez poderá permanecer com o aparelho durante todo o período de\n",
      "realização de prova, desde que envie os documentos para análise de viabilidade no prazo e nas\n",
      "condições estabelecidas nos subitens 4.2.1, 4.2.2, 4.3, 4.3.1, 4.3.2 e 4.3.2.1 deste Edital.\n",
      "\n",
      "4.4.8 Tempo adicional: exclusivamente ao candidato amparado pelo Decreto n.º 3.298/1999 poderá ser\n",
      "oferecido tempo adicional de 1 (uma) hora para a realização da Prova de Conhecimentos, desde\n",
      "que o candidato envie os documentos para análise de viabilidade no prazo e nas condições\n",
      "estabelecidas nos subitens 4.2.1, 4.2.2, 4.3, 4.3.1, 4.3.2 e 4.3.2.1 deste Edital.\n",
      "\n",
      "4.4.8.1 O tempo adicional só será disponibilizado quando houver efetiva necessidade educacional especial\n",
      "e conforme previsto no subitem 4.7.\n",
      "\n",
      "4.5 Os recursos disponibilizados são relativos ao tipo de necessidade educacional especial.\n",
      "4.3.4 O prazo máximo mencionado no subitem 4.3.2 não se aplica nos casos de Transtorno do Espectro\n",
      "Autista – TEA e de outras deficiências de caráter permanente, cujo atestado/laudo médico pericial\n",
      "que as atestem passa a ter prazo de validade indeterminado.\n",
      "\n",
      "4.4 São condições específicas oferecidas pelo NC/UFPR, observado o disposto nos subitens 4.2.1,\n",
      "4.2.2, 4.3, 4.3.1, 4.3.2 e 4.3.2.1 deste Edital:\n",
      "\n",
      "4.4.1 Acessibilidade: poderá ser oferecida estrutura de acessibilidade para realização da prova, desde\n",
      "que o candidato envie os documentos para análise de viabilidade no prazo e nas condições\n",
      "estabelecidas nos subitens 4.2.1, 4.2.2, 4.3, 4.3.1, 4.3.2 e 4.3.2.1 deste Edital.\n",
      "a) Manter em seu poder relógios, armas e aparelhos eletrônicos ou qualquer objeto identificável\n",
      "pelo detector de metais;\n",
      "b) Usar bonés, gorros, chapéus ou quaisquer outros acessórios que cubram as orelhas, ressalvado\n",
      "o disposto no item 4.8.3 deste edital;\n",
      "c) Usar fone ou qualquer outro dispositivo no ouvido, exceto quando autorizado por meio de\n",
      "solicitação de Atendimento Especial;\n",
      "d) Portar líquidos, exceto se o recipiente for transparente e sem rótulo;\n",
      "e) Comunicar-se com outro candidato, usar calculadora e dispositivos similares, livros, anotações,\n",
      "réguas de cálculo, lapiseiras, impressos ou qualquer outro material de consulta;\n",
      "f) Portar carteira de documentos/dinheiro ou similares;\n",
      "g) Usar óculos escuros, exceto quando autorizado por meio de solicitação de Atendimento\n",
      "Especial;\n",
      "h) Receber de outros candidatos quaisquer materiais para realização da prova.\n",
      "\n",
      "7.5.1 Não é permitido comparecer armado ao local de prova, sob pena de ter a entrada impedida.\n",
      "7.15 Poderá, a critério do NC/UFPR, ocorrer prorrogação no fechamento das portas de acesso dos locais\n",
      "onde serão realizadas as provas, em função de fatores externos relevantes e imprevisíveis.\n",
      "\n",
      "7.16 A data de realização da prova poderá ser alterada, ou a prova ser reaplicada em outra data, na\n",
      "ocorrência de fato que inviabilize sua realização ou que implique sua anulação. Nesse caso, o\n",
      "NC/UFPR convocará os candidatos por meio de edital específico para outra data com antecedência\n",
      "mínima de 72 horas.\n",
      "\n",
      "7.17 O NC/UFPR poderá, por motivos relevantes, cancelar ou anular as provas em um ou mais locais de\n",
      "prova, devendo os candidatos dos cursos afetados submeterem-se a novas provas em datas e\n",
      "locais fixados sem a necessidade de pagamento de nova taxa de inscrição.\n",
      "\n",
      "7.17.1 O caderno de prova conterá um espaço designado para anotação das respostas das questões\n",
      "objetivas, que poderá ser destacado e levado pelo candidato para posterior conferência com o\n",
      "gabarito.\n"
     ]
    }
   ],
   "source": [
    "print(results[0].page_content)\n",
    "print(results[1].page_content)\n",
    "print(results[2].page_content)\n",
    "print(results[3].page_content)"
   ]
  },
  {
   "cell_type": "code",
   "execution_count": 52,
   "metadata": {},
   "outputs": [
    {
     "ename": "AttributeError",
     "evalue": "'Chroma' object has no attribute 'save'",
     "output_type": "error",
     "traceback": [
      "\u001b[0;31m---------------------------------------------------------------------------\u001b[0m",
      "\u001b[0;31mAttributeError\u001b[0m                            Traceback (most recent call last)",
      "Cell \u001b[0;32mIn[52], line 1\u001b[0m\n\u001b[0;32m----> 1\u001b[0m \u001b[43mvectordb\u001b[49m\u001b[38;5;241;43m.\u001b[39;49m\u001b[43msave\u001b[49m()\n",
      "\u001b[0;31mAttributeError\u001b[0m: 'Chroma' object has no attribute 'save'"
     ]
    }
   ],
   "source": []
  }
 ],
 "metadata": {
  "kernelspec": {
   "display_name": "Python 3",
   "language": "python",
   "name": "python3"
  },
  "language_info": {
   "codemirror_mode": {
    "name": "ipython",
    "version": 3
   },
   "file_extension": ".py",
   "mimetype": "text/x-python",
   "name": "python",
   "nbconvert_exporter": "python",
   "pygments_lexer": "ipython3",
   "version": "3.10.12"
  }
 },
 "nbformat": 4,
 "nbformat_minor": 2
}
